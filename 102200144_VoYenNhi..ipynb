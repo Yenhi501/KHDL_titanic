{
  "nbformat": 4,
  "nbformat_minor": 0,
  "metadata": {
    "colab": {
      "provenance": []
    },
    "kernelspec": {
      "name": "python3",
      "display_name": "Python 3"
    },
    "language_info": {
      "name": "python"
    }
  },
  "cells": [
    {
      "cell_type": "code",
      "execution_count": 2426,
      "metadata": {
        "id": "tyxeGbTETPpT"
      },
      "outputs": [],
      "source": [
        "import numpy as np\n",
        "import pandas as pd\n",
        "import matplotlib.pyplot as plt"
      ]
    },
    {
      "cell_type": "code",
      "source": [
        "data = pd.read_csv('./sample_data/titanic.csv', usecols=['survived', 'age', 'fare'])\n",
        "data.head()"
      ],
      "metadata": {
        "colab": {
          "base_uri": "https://localhost:8080/",
          "height": 206
        },
        "id": "Yopz9SQ-TbgB",
        "outputId": "22f228da-b9cb-4ebd-c8b5-645d050daea4"
      },
      "execution_count": 2427,
      "outputs": [
        {
          "output_type": "execute_result",
          "data": {
            "text/plain": [
              "   survived   age     fare\n",
              "0         0  22.0   7.2500\n",
              "1         1  38.0  71.2833\n",
              "2         1  26.0   7.9250\n",
              "3         1  35.0  53.1000\n",
              "4         0  35.0   8.0500"
            ],
            "text/html": [
              "\n",
              "  <div id=\"df-264aa390-2ca2-4972-991f-c639b3aaccc8\">\n",
              "    <div class=\"colab-df-container\">\n",
              "      <div>\n",
              "<style scoped>\n",
              "    .dataframe tbody tr th:only-of-type {\n",
              "        vertical-align: middle;\n",
              "    }\n",
              "\n",
              "    .dataframe tbody tr th {\n",
              "        vertical-align: top;\n",
              "    }\n",
              "\n",
              "    .dataframe thead th {\n",
              "        text-align: right;\n",
              "    }\n",
              "</style>\n",
              "<table border=\"1\" class=\"dataframe\">\n",
              "  <thead>\n",
              "    <tr style=\"text-align: right;\">\n",
              "      <th></th>\n",
              "      <th>survived</th>\n",
              "      <th>age</th>\n",
              "      <th>fare</th>\n",
              "    </tr>\n",
              "  </thead>\n",
              "  <tbody>\n",
              "    <tr>\n",
              "      <th>0</th>\n",
              "      <td>0</td>\n",
              "      <td>22.0</td>\n",
              "      <td>7.2500</td>\n",
              "    </tr>\n",
              "    <tr>\n",
              "      <th>1</th>\n",
              "      <td>1</td>\n",
              "      <td>38.0</td>\n",
              "      <td>71.2833</td>\n",
              "    </tr>\n",
              "    <tr>\n",
              "      <th>2</th>\n",
              "      <td>1</td>\n",
              "      <td>26.0</td>\n",
              "      <td>7.9250</td>\n",
              "    </tr>\n",
              "    <tr>\n",
              "      <th>3</th>\n",
              "      <td>1</td>\n",
              "      <td>35.0</td>\n",
              "      <td>53.1000</td>\n",
              "    </tr>\n",
              "    <tr>\n",
              "      <th>4</th>\n",
              "      <td>0</td>\n",
              "      <td>35.0</td>\n",
              "      <td>8.0500</td>\n",
              "    </tr>\n",
              "  </tbody>\n",
              "</table>\n",
              "</div>\n",
              "      <button class=\"colab-df-convert\" onclick=\"convertToInteractive('df-264aa390-2ca2-4972-991f-c639b3aaccc8')\"\n",
              "              title=\"Convert this dataframe to an interactive table.\"\n",
              "              style=\"display:none;\">\n",
              "        \n",
              "  <svg xmlns=\"http://www.w3.org/2000/svg\" height=\"24px\"viewBox=\"0 0 24 24\"\n",
              "       width=\"24px\">\n",
              "    <path d=\"M0 0h24v24H0V0z\" fill=\"none\"/>\n",
              "    <path d=\"M18.56 5.44l.94 2.06.94-2.06 2.06-.94-2.06-.94-.94-2.06-.94 2.06-2.06.94zm-11 1L8.5 8.5l.94-2.06 2.06-.94-2.06-.94L8.5 2.5l-.94 2.06-2.06.94zm10 10l.94 2.06.94-2.06 2.06-.94-2.06-.94-.94-2.06-.94 2.06-2.06.94z\"/><path d=\"M17.41 7.96l-1.37-1.37c-.4-.4-.92-.59-1.43-.59-.52 0-1.04.2-1.43.59L10.3 9.45l-7.72 7.72c-.78.78-.78 2.05 0 2.83L4 21.41c.39.39.9.59 1.41.59.51 0 1.02-.2 1.41-.59l7.78-7.78 2.81-2.81c.8-.78.8-2.07 0-2.86zM5.41 20L4 18.59l7.72-7.72 1.47 1.35L5.41 20z\"/>\n",
              "  </svg>\n",
              "      </button>\n",
              "      \n",
              "  <style>\n",
              "    .colab-df-container {\n",
              "      display:flex;\n",
              "      flex-wrap:wrap;\n",
              "      gap: 12px;\n",
              "    }\n",
              "\n",
              "    .colab-df-convert {\n",
              "      background-color: #E8F0FE;\n",
              "      border: none;\n",
              "      border-radius: 50%;\n",
              "      cursor: pointer;\n",
              "      display: none;\n",
              "      fill: #1967D2;\n",
              "      height: 32px;\n",
              "      padding: 0 0 0 0;\n",
              "      width: 32px;\n",
              "    }\n",
              "\n",
              "    .colab-df-convert:hover {\n",
              "      background-color: #E2EBFA;\n",
              "      box-shadow: 0px 1px 2px rgba(60, 64, 67, 0.3), 0px 1px 3px 1px rgba(60, 64, 67, 0.15);\n",
              "      fill: #174EA6;\n",
              "    }\n",
              "\n",
              "    [theme=dark] .colab-df-convert {\n",
              "      background-color: #3B4455;\n",
              "      fill: #D2E3FC;\n",
              "    }\n",
              "\n",
              "    [theme=dark] .colab-df-convert:hover {\n",
              "      background-color: #434B5C;\n",
              "      box-shadow: 0px 1px 3px 1px rgba(0, 0, 0, 0.15);\n",
              "      filter: drop-shadow(0px 1px 2px rgba(0, 0, 0, 0.3));\n",
              "      fill: #FFFFFF;\n",
              "    }\n",
              "  </style>\n",
              "\n",
              "      <script>\n",
              "        const buttonEl =\n",
              "          document.querySelector('#df-264aa390-2ca2-4972-991f-c639b3aaccc8 button.colab-df-convert');\n",
              "        buttonEl.style.display =\n",
              "          google.colab.kernel.accessAllowed ? 'block' : 'none';\n",
              "\n",
              "        async function convertToInteractive(key) {\n",
              "          const element = document.querySelector('#df-264aa390-2ca2-4972-991f-c639b3aaccc8');\n",
              "          const dataTable =\n",
              "            await google.colab.kernel.invokeFunction('convertToInteractive',\n",
              "                                                     [key], {});\n",
              "          if (!dataTable) return;\n",
              "\n",
              "          const docLinkHtml = 'Like what you see? Visit the ' +\n",
              "            '<a target=\"_blank\" href=https://colab.research.google.com/notebooks/data_table.ipynb>data table notebook</a>'\n",
              "            + ' to learn more about interactive tables.';\n",
              "          element.innerHTML = '';\n",
              "          dataTable['output_type'] = 'display_data';\n",
              "          await google.colab.output.renderOutput(dataTable, element);\n",
              "          const docLink = document.createElement('div');\n",
              "          docLink.innerHTML = docLinkHtml;\n",
              "          element.appendChild(docLink);\n",
              "        }\n",
              "      </script>\n",
              "    </div>\n",
              "  </div>\n",
              "  "
            ]
          },
          "metadata": {},
          "execution_count": 2427
        }
      ]
    },
    {
      "cell_type": "code",
      "source": [],
      "metadata": {
        "id": "yRogqXK8j1At"
      },
      "execution_count": 2427,
      "outputs": []
    },
    {
      "cell_type": "markdown",
      "source": [
        "#   Tính toán độ chính xác của một mô hình logistic regression trên tập dữ liệu huấn luyện và kiểm tra đã được chia ra\n",
        "* X_train: là tập dữ liệu huấn luyện cho các thuộc tính đầu vào\n",
        "* X_test: là tập dữ liệu kiểm tra cho các thuộc tính đầu vào\n",
        "* y_train: là tập nhãn huấn luyện tương ứng với X_train\n",
        "* y_test: là tập nhãn kiểm tra tương ứng với X_test"
      ],
      "metadata": {
        "id": "LeezCiqlWFi6"
      }
    },
    {
      "cell_type": "code",
      "source": [
        "# \n",
        "def accuracy_score_function(X_train, X_test, y_train, y_test):\n",
        "    lr = LogisticRegression() #Tạo một mô hình Logistic Regression với các giá trị mặc định.\n",
        "    lr.fit(X_train, y_train) # Đưa dữ liệu huấn luyện X_train và nhãn huấn luyện y_train vào để huấn luyện mô hình lr.\n",
        "    y_pred = lr.predict(X_test) #Sử dụng mô hình lr đã huấn luyện để dự đoán nhãn của dữ liệu X_test. ( nhãn dự đoán)\n",
        "    accuracy = accuracy_score(y_test, y_pred)  #y_test(nhãn thực tế)\n",
        "    #Tính toán độ chính xác của mô hình bằng cách so sánh nhãn thực tế của y_test và nhãn dự đoán của y_pred, \n",
        "    #sử dụng hàm accuracy_score từ thư viện sklearn.metrics\n",
        "    return accuracy\n"
      ],
      "metadata": {
        "id": "I2_MuFfMjcA7"
      },
      "execution_count": 2428,
      "outputs": []
    },
    {
      "cell_type": "markdown",
      "source": [
        "# Các phương pháp xử lý dữ liệu trống"
      ],
      "metadata": {
        "id": "hSneneXhYvtQ"
      }
    },
    {
      "cell_type": "markdown",
      "source": [
        "* Xử lý dữ liệu bị thiếu trong cột 'age' trong tập huấn luyện X_train và tập kiểm tra X_test."
      ],
      "metadata": {
        "id": "it_GR5c6qhC6"
      }
    },
    {
      "cell_type": "code",
      "source": [
        "def dt_mean(X_train, X_test):\n",
        "    dt_train_mean = X_train['age'].dropna().mean()\n",
        "    X_train['age'] = X_train['age'].fillna(dt_train_mean)\n",
        "    X_test['age'] = X_test['age'].fillna(dt_train_mean)\n",
        "    return X_train, X_test"
      ],
      "metadata": {
        "id": "L0_T-CrN2oaT"
      },
      "execution_count": 2429,
      "outputs": []
    },
    {
      "cell_type": "code",
      "source": [
        "def dt_median(X_train,X_test):\n",
        "    dt_train_median=X_train['age'].dropna().median() #loại bỏ các giá trị null trước khi tính trung vị\n",
        "    X_train['age'] = X_train['age'].fillna(dt_train_median) #điền các giá trị null của cột 'age' trong X_train bằng giá trị trung vị dt_train_median đã tính \n",
        "    X_test['age'] = X_test['age'].fillna(dt_train_median) #điền các giá trị null của cột 'age' trong X_test bằng giá trị trung vị \n",
        "    return X_train, X_test"
      ],
      "metadata": {
        "id": "jwNVm35Pn0Ah"
      },
      "execution_count": 2430,
      "outputs": []
    },
    {
      "cell_type": "code",
      "source": [
        "def dt_mode(X_train,X_test):\n",
        "    dt_train_mode=X_train['age'].dropna().mode()[0]\n",
        "    X_train['age'] = X_train['age'].fillna(dt_train_mode)\n",
        "    X_test['age'] = X_test['age'].fillna(dt_train_mode)\n",
        "    return X_train, X_test"
      ],
      "metadata": {
        "id": "kLdXUthMrZ9g"
      },
      "execution_count": 2431,
      "outputs": []
    },
    {
      "cell_type": "code",
      "source": [
        "def dt_random(X_train, X_test):\n",
        "    np.random.seed(42)\n",
        "    random_train = np.random.choice(X_train['age'].dropna(), size=X_train['age'].isnull().sum(), replace=True)\n",
        "    random_test = np.random.choice(X_test['age'].dropna(), size=X_test['age'].isnull().sum(), replace=True)\n",
        "    X_train.loc[X_train['age'].isnull(), 'age'] = random_train\n",
        "    X_test.loc[X_test['age'].isnull(), 'age'] = random_test\n",
        "    return X_train, X_test"
      ],
      "metadata": {
        "id": "8ytyS-B13iQz"
      },
      "execution_count": 2432,
      "outputs": []
    },
    {
      "cell_type": "code",
      "source": [
        "#Thay thế bằng giá trị đuôi của phân bố (End of distribution imputation)\n",
        "def eod_imputation(X_train, X_test):\n",
        "    eod = X_train['age'].mean() + 3 * X_train['age'].std()\n",
        "    X_train['age'] = X_train['age'].fillna(eod)\n",
        "    X_test['age'] = X_test['age'].fillna(eod)\n",
        "    return X_train, X_test\n"
      ],
      "metadata": {
        "id": "fo0BniV14rRW"
      },
      "execution_count": 2433,
      "outputs": []
    },
    {
      "cell_type": "code",
      "source": [
        "\n",
        "def arbitrary_imputation(X_train, X_test):\n",
        "    value_arbitrary = np.random.randint(23, 38)\n",
        "    X_train['age'].fillna(value_arbitrary, inplace=True)\n",
        "    X_test['age'].fillna(value_arbitrary, inplace=True)\n",
        "    return X_train, X_test\n"
      ],
      "metadata": {
        "id": "FxYoOr7r9ZjK"
      },
      "execution_count": 2434,
      "outputs": []
    },
    {
      "cell_type": "code",
      "source": [
        "def createNewFeature(X_train,X_test):\n",
        "    X_train.loc[X_train['age'].isnull(),'ageNaN'] = 1\n",
        "    X_test.loc[X_test['age'].isnull(),'ageNaN'] = 1\n",
        "    mean = X_train[['age','fare','ageNaN']].mean()\n",
        "    return X_train[['age','fare','ageNaN']].fillna(mean),X_test[['age','fare','ageNaN']].fillna(mean)"
      ],
      "metadata": {
        "id": "tGwEuEbSBSHt"
      },
      "execution_count": 2435,
      "outputs": []
    },
    {
      "cell_type": "markdown",
      "source": [
        "# Trường hợp không xử lý ngoại lệ"
      ],
      "metadata": {
        "id": "RTGRExb5XNGi"
      }
    },
    {
      "cell_type": "code",
      "source": [
        "def evaluate_data_processing(X, y, data_processing_func, n_trials=10, **kwargs):\n",
        "    sum_acc = 0\n",
        "    for i in range(n_trials):\n",
        "        X_train, X_test, y_train, y_test = train_test_split(X, y, test_size=0.3, random_state=i, stratify=y)\n",
        "        X_train_processed, X_test_processed = data_processing_func(X_train, X_test, **kwargs)\n",
        "        acc = accuracy_score_function(X_train_processed, X_test_processed, y_train, y_test)\n",
        "        sum_acc += acc\n",
        "    avg_acc = sum_acc / n_trials\n",
        "    print(data_processing_func.__name__, \"(average accuracy) : \", avg_acc,)\n",
        "    return avg_acc\n"
      ],
      "metadata": {
        "id": "-5tXQNa_-nmD"
      },
      "execution_count": 2436,
      "outputs": []
    },
    {
      "cell_type": "code",
      "source": [
        "X = data[['age', 'fare']]\n",
        "y = data['survived']\n",
        "No_outlier_mean = evaluate_data_processing(X, y, dt_mean)\n",
        "No_outlier_median = evaluate_data_processing(X, y, dt_median)\n",
        "No_outlier_mode = evaluate_data_processing(X, y, dt_mode)\n",
        "No_outlier_random = evaluate_data_processing(X, y, dt_random)\n",
        "No_outlier_eod = evaluate_data_processing(X, y, eod_imputation)\n",
        "No_outlier_arbitrary= evaluate_data_processing(X, y, arbitrary_imputation)\n",
        "No_outlier_createnew = evaluate_data_processing(X, y, createNewFeature)"
      ],
      "metadata": {
        "colab": {
          "base_uri": "https://localhost:8080/"
        },
        "id": "kZkdZN0G1Knr",
        "outputId": "ae7e828d-8051-4641-db86-88e8052911b3"
      },
      "execution_count": 2437,
      "outputs": [
        {
          "output_type": "stream",
          "name": "stdout",
          "text": [
            "dt_mean (average accuracy) :  0.6585820895522387\n",
            "dt_median (average accuracy) :  0.6578358208955224\n",
            "dt_mode (average accuracy) :  0.6608208955223881\n",
            "dt_random (average accuracy) :  0.6667910447761194\n",
            "eod_imputation (average accuracy) :  0.6708955223880597\n",
            "arbitrary_imputation (average accuracy) :  0.6608208955223881\n",
            "createNewFeature (average accuracy) :  0.6589552238805969\n"
          ]
        }
      ]
    },
    {
      "cell_type": "markdown",
      "source": [
        "  # Trường hợp Có xử lý ngoại lệ (đồng thời trên 2 biến Age và Fare)"
      ],
      "metadata": {
        "id": "HIDLYGH-bQN6"
      }
    },
    {
      "cell_type": "code",
      "source": [
        "def outlier_process(X_train, X_test):\n",
        "    X_train_processed = X_train.copy()\n",
        "    X_test_processed = X_test.copy()\n",
        "\n",
        "    age_Q1 = X_train_processed['age'].quantile(0.25)\n",
        "    age_Q3 = X_train_processed['age'].quantile(0.75)\n",
        "    age_IQR = age_Q3 - age_Q1\n",
        "    age_lower_threshold = age_Q1 - 1.5 * age_IQR\n",
        "    age_upper_threshold = age_Q3 + 1.5 * age_IQR\n",
        "\n",
        "    X_train_processed = X_train_processed[(X_train_processed['age'] > age_lower_threshold) & (X_train_processed['age'] < age_upper_threshold)]\n",
        "    X_test_processed = X_test_processed[(X_test_processed['age'] > age_lower_threshold) & (X_test_processed['age'] < age_upper_threshold)]\n",
        "\n",
        "    fare_Q1 = X_train_processed['fare'].quantile(0.25)\n",
        "    fare_Q3 = X_train_processed['fare'].quantile(0.75)\n",
        "    fare_IQR = fare_Q3 - fare_Q1\n",
        "    fare_lower_threshold = fare_Q1 - 1.5 * fare_IQR\n",
        "    fare_upper_threshold = fare_Q3 + 1.5 * fare_IQR\n",
        "\n",
        "    X_train_processed = X_train_processed[(X_train_processed['fare'] > fare_lower_threshold) & (X_train_processed['fare'] < fare_upper_threshold)]\n",
        "    X_test_processed = X_test_processed[(X_test_processed['fare'] > fare_lower_threshold) & (X_test_processed['fare'] < fare_upper_threshold)]\n",
        "\n",
        "    return X_train_processed, X_test_processed\n"
      ],
      "metadata": {
        "id": "AzCrQQ6Zo9ZJ"
      },
      "execution_count": 2438,
      "outputs": []
    },
    {
      "cell_type": "code",
      "source": [
        "sum=0\n",
        "for i in range (10): \n",
        "#thực hiện 10 lần lặp mỗi lần sử dụng một giá trị random_state khác nhau để \n",
        "#chia dữ liệu thành tập huấn luyện và tập kiểm tra theo tỷ lệ 70:30.\n",
        "    X=data[['age','fare']].copy()\n",
        "    y=data['survived']\n",
        "    X_train,X_test,y_train,y_test=train_test_split(X,y,test_size=0.3, random_state=i, stratify=y)\n",
        "    dt_mean(X_train,X_test)\n",
        "    outlier_process(X_train,X_test)\n",
        "    sum=sum+accuracy_score_function(X_train,X_test,y_train,y_test)\n",
        "    data_outlier_mean=sum/10\n"
      ],
      "metadata": {
        "id": "gUlRkZgkqneZ"
      },
      "execution_count": 2439,
      "outputs": []
    },
    {
      "cell_type": "code",
      "source": [
        "sum=0\n",
        "for i in range (10):\n",
        "    X=data[['age','fare']].copy()\n",
        "    y=data['survived']\n",
        "    X_train,X_test,y_train,y_test=train_test_split(X,y,test_size=0.3, random_state=i, stratify=y)\n",
        "    dt_median(X_train,X_test)\n",
        "    outlier_process(X_train,X_test)\n",
        "    sum=sum+accuracy_score_function(X_train,X_test,y_train,y_test)\n",
        "data_outlier_median=sum/10"
      ],
      "metadata": {
        "id": "0XhTqlvLrFDg"
      },
      "execution_count": 2440,
      "outputs": []
    },
    {
      "cell_type": "code",
      "source": [
        "sum=0\n",
        "for i in range (10):\n",
        "    X=data[['age','fare']].copy()\n",
        "    y=data['survived']\n",
        "    X_train,X_test,y_train,y_test=train_test_split(X,y,test_size=0.3, random_state=i, stratify=y)\n",
        "    dt_mode(X_train,X_test)\n",
        "    outlier_process(X_train,X_test)\n",
        "    sum=sum+accuracy_score_function(X_train,X_test,y_train,y_test)\n",
        "    data_outlier_mode=sum/10"
      ],
      "metadata": {
        "id": "_sL3M9t7sWHH"
      },
      "execution_count": 2441,
      "outputs": []
    },
    {
      "cell_type": "code",
      "source": [
        "sum=0\n",
        "for i in range (10):\n",
        "    X=data[['age','fare']].copy()\n",
        "    y=data['survived']\n",
        "    X_train,X_test,y_train,y_test=train_test_split(X,y,test_size=0.3, random_state=i, stratify=y)\n",
        "    dt_random(X_train,X_test)\n",
        "    outlier_process(X_train,X_test)\n",
        "    sum=sum+accuracy_score_function(X_train,X_test,y_train,y_test)\n",
        "    data_outlier_random=sum/10"
      ],
      "metadata": {
        "id": "Bb-6af1XJvIO"
      },
      "execution_count": 2442,
      "outputs": []
    },
    {
      "cell_type": "code",
      "source": [
        "sum=0\n",
        "for i in range (10):\n",
        "    X=data[['age','fare']].copy()\n",
        "    y=data['survived']\n",
        "    X_train,X_test,y_train,y_test=train_test_split(X,y,test_size=0.3, random_state=i, stratify=y)\n",
        "    eod_imputation(X_train,X_test)\n",
        "    outlier_process(X_train,X_test)\n",
        "    sum=sum+accuracy_score_function(X_train,X_test,y_train,y_test)\n",
        "    data_outlier_eod=sum/10"
      ],
      "metadata": {
        "id": "K9gGwxG7KMsx"
      },
      "execution_count": 2443,
      "outputs": []
    },
    {
      "cell_type": "code",
      "source": [
        "sum=0\n",
        "for i in range (10):\n",
        "    X=data[['age','fare']].copy()\n",
        "    y=data['survived']\n",
        "    X_train,X_test,y_train,y_test=train_test_split(X,y,test_size=0.3, random_state=i, stratify=y)\n",
        "    arbitrary_imputation(X_train,X_test)\n",
        "    outlier_process(X_train,X_test)\n",
        "    sum=sum+accuracy_score_function(X_train,X_test,y_train,y_test)\n",
        "    data_outlier_arbitrary_imputation=sum/10"
      ],
      "metadata": {
        "id": "pop8AMI0LGBN"
      },
      "execution_count": 2444,
      "outputs": []
    },
    {
      "cell_type": "code",
      "source": [
        "print(\"Outlier_mean :\" ,data_outlier_mean)\n",
        "print(\"Outlier_median :\" ,data_outlier_median)\n",
        "print(\"Outlier_mode :\" ,data_outlier_mode)\n",
        "print(\"Outlier_random :\" ,data_outlier_random)\n",
        "print(\"Outlier_arbitrary_imputation :\" ,data_outlier_arbitrary_imputation)\n",
        "print(\"Outlier_eod_imputation :\" ,data_outlier_eod)\n"
      ],
      "metadata": {
        "colab": {
          "base_uri": "https://localhost:8080/"
        },
        "id": "tGI_AARHJng_",
        "outputId": "10c6d7ce-e825-423a-e260-94f8e30d1323"
      },
      "execution_count": 2445,
      "outputs": [
        {
          "output_type": "stream",
          "name": "stdout",
          "text": [
            "Outlier_mean : 0.6585820895522387\n",
            "Outlier_median : 0.6578358208955224\n",
            "Outlier_mode : 0.6608208955223881\n",
            "Outlier_random : 0.6667910447761194\n",
            "Outlier_arbitrary_imputation : 0.6608208955223881\n",
            "Outlier_eod_imputation : 0.6708955223880597\n"
          ]
        }
      ]
    },
    {
      "cell_type": "code",
      "source": [
        "import pandas as pd\n",
        "\n",
        "accuracy_no_outlier_process = {\n",
        "  'mean': (No_outlier_mean )*100,\n",
        "  'median': (No_outlier_median)*100,\n",
        "  'mode': (No_outlier_mode )*100,\n",
        "  'random': (No_outlier_random)*100,\n",
        "  'end of distribution': (No_outlier_eod )*100,\n",
        "  'arbitrary': (No_outlier_arbitrary)*100\n",
        "}\n",
        "\n",
        "accuracy_outlier_process = {\n",
        "  'mean': data_outlier_mean *100,\n",
        "  'median': data_outlier_median*100,\n",
        "  'mode': data_outlier_mode*100,\n",
        "  'random': data_outlier_random*100,\n",
        "  'end of distribution': data_outlier_eod *100,\n",
        "  'arbitrary': data_outlier_arbitrary_imputation*100\n",
        "}\n",
        "\n",
        "df = pd.DataFrame({'No outlier process': accuracy_no_outlier_process, 'Outlier process': accuracy_outlier_process})\n",
        "\n",
        "# Tô màu gradient\n",
        "df.style.background_gradient(cmap='Greens')\n"
      ],
      "metadata": {
        "colab": {
          "base_uri": "https://localhost:8080/",
          "height": 237
        },
        "id": "nQj-t-jcJrtr",
        "outputId": "5549bb7b-c152-4c9e-8b34-c78678339766"
      },
      "execution_count": 2446,
      "outputs": [
        {
          "output_type": "execute_result",
          "data": {
            "text/plain": [
              "<pandas.io.formats.style.Styler at 0x7fa884aaabb0>"
            ],
            "text/html": [
              "<style type=\"text/css\">\n",
              "#T_a9ab1_row0_col0, #T_a9ab1_row0_col1 {\n",
              "  background-color: #eff9ec;\n",
              "  color: #000000;\n",
              "}\n",
              "#T_a9ab1_row1_col0, #T_a9ab1_row1_col1 {\n",
              "  background-color: #f7fcf5;\n",
              "  color: #000000;\n",
              "}\n",
              "#T_a9ab1_row2_col0, #T_a9ab1_row2_col1, #T_a9ab1_row5_col0, #T_a9ab1_row5_col1 {\n",
              "  background-color: #ccebc6;\n",
              "  color: #000000;\n",
              "}\n",
              "#T_a9ab1_row3_col0, #T_a9ab1_row3_col1 {\n",
              "  background-color: #329b51;\n",
              "  color: #f1f1f1;\n",
              "}\n",
              "#T_a9ab1_row4_col0, #T_a9ab1_row4_col1 {\n",
              "  background-color: #00441b;\n",
              "  color: #f1f1f1;\n",
              "}\n",
              "</style>\n",
              "<table id=\"T_a9ab1\" class=\"dataframe\">\n",
              "  <thead>\n",
              "    <tr>\n",
              "      <th class=\"blank level0\" >&nbsp;</th>\n",
              "      <th id=\"T_a9ab1_level0_col0\" class=\"col_heading level0 col0\" >No outlier process</th>\n",
              "      <th id=\"T_a9ab1_level0_col1\" class=\"col_heading level0 col1\" >Outlier process</th>\n",
              "    </tr>\n",
              "  </thead>\n",
              "  <tbody>\n",
              "    <tr>\n",
              "      <th id=\"T_a9ab1_level0_row0\" class=\"row_heading level0 row0\" >mean</th>\n",
              "      <td id=\"T_a9ab1_row0_col0\" class=\"data row0 col0\" >65.858209</td>\n",
              "      <td id=\"T_a9ab1_row0_col1\" class=\"data row0 col1\" >65.858209</td>\n",
              "    </tr>\n",
              "    <tr>\n",
              "      <th id=\"T_a9ab1_level0_row1\" class=\"row_heading level0 row1\" >median</th>\n",
              "      <td id=\"T_a9ab1_row1_col0\" class=\"data row1 col0\" >65.783582</td>\n",
              "      <td id=\"T_a9ab1_row1_col1\" class=\"data row1 col1\" >65.783582</td>\n",
              "    </tr>\n",
              "    <tr>\n",
              "      <th id=\"T_a9ab1_level0_row2\" class=\"row_heading level0 row2\" >mode</th>\n",
              "      <td id=\"T_a9ab1_row2_col0\" class=\"data row2 col0\" >66.082090</td>\n",
              "      <td id=\"T_a9ab1_row2_col1\" class=\"data row2 col1\" >66.082090</td>\n",
              "    </tr>\n",
              "    <tr>\n",
              "      <th id=\"T_a9ab1_level0_row3\" class=\"row_heading level0 row3\" >random</th>\n",
              "      <td id=\"T_a9ab1_row3_col0\" class=\"data row3 col0\" >66.679104</td>\n",
              "      <td id=\"T_a9ab1_row3_col1\" class=\"data row3 col1\" >66.679104</td>\n",
              "    </tr>\n",
              "    <tr>\n",
              "      <th id=\"T_a9ab1_level0_row4\" class=\"row_heading level0 row4\" >end of distribution</th>\n",
              "      <td id=\"T_a9ab1_row4_col0\" class=\"data row4 col0\" >67.089552</td>\n",
              "      <td id=\"T_a9ab1_row4_col1\" class=\"data row4 col1\" >67.089552</td>\n",
              "    </tr>\n",
              "    <tr>\n",
              "      <th id=\"T_a9ab1_level0_row5\" class=\"row_heading level0 row5\" >arbitrary</th>\n",
              "      <td id=\"T_a9ab1_row5_col0\" class=\"data row5 col0\" >66.082090</td>\n",
              "      <td id=\"T_a9ab1_row5_col1\" class=\"data row5 col1\" >66.082090</td>\n",
              "    </tr>\n",
              "  </tbody>\n",
              "</table>\n"
            ]
          },
          "metadata": {},
          "execution_count": 2446
        }
      ]
    },
    {
      "cell_type": "code",
      "source": [
        "from sklearn.model_selection import train_test_split\n",
        "from sklearn.linear_model import LogisticRegression\n",
        "from sklearn.metrics import accuracy_score\n",
        "from sklearn.preprocessing import (\n",
        "    MinMaxScaler, minmax_scale, MaxAbsScaler, StandardScaler, RobustScaler,\n",
        "    Normalizer, QuantileTransformer, PowerTransformer\n",
        ")"
      ],
      "metadata": {
        "id": "DjOuaU-8aAEh"
      },
      "execution_count": 2447,
      "outputs": []
    },
    {
      "cell_type": "code",
      "source": [
        "def split_data(data):\n",
        "    X=data[['age','fare']].copy()\n",
        "    y=data['survived']\n",
        "    return train_test_split(X, y, test_size=0.3, stratify=y)\n"
      ],
      "metadata": {
        "id": "9xXZ8B1bmu12"
      },
      "execution_count": 2448,
      "outputs": []
    },
    {
      "cell_type": "code",
      "source": [
        "def preprocess_data(X_train, X_test):\n",
        "     dt_mode(X_train, X_test)\n",
        "     outlier_process(X_train, X_test)"
      ],
      "metadata": {
        "id": "mUTKkfFVmxqT"
      },
      "execution_count": 2449,
      "outputs": []
    },
    {
      "cell_type": "code",
      "source": [
        "def scaler_transform(X_train, X_test, scaler_type):\n",
        "    if scaler_type == 'standard':\n",
        "        scaler = StandardScaler()\n",
        "    elif scaler_type == 'min_max':\n",
        "        scaler = MinMaxScaler()\n",
        "    elif scaler_type == 'robust':\n",
        "        scaler = RobustScaler()\n",
        "    elif scaler_type == 'maxabs':\n",
        "        scaler = MaxAbsScaler()\n",
        "    elif scaler_type == 'norma':\n",
        "        scaler = Normalizer()\n",
        "    elif scaler_type == 'quantil':\n",
        "        scaler = QuantileTransformer(n_quantiles=620)\n",
        "    elif scaler_type == 'powert':\n",
        "        scaler = PowerTransformer()\n",
        "    else:\n",
        "        raise ValueError('Scaler not recognized')\n",
        "    X_train = pd.DataFrame(scaler.fit_transform(X_train), columns=X_train.columns)\n",
        "    X_test = pd.DataFrame(scaler.transform(X_test), columns=X_test.columns)\n",
        "    return X_train, X_test"
      ],
      "metadata": {
        "id": "UQuPCvb3n0Ms"
      },
      "execution_count": 2450,
      "outputs": []
    },
    {
      "cell_type": "code",
      "source": [
        "def evaluate_performance(X_train, X_test, y_train, y_test):\n",
        "    return accuracy_score_function(X_train, X_test, y_train, y_test)"
      ],
      "metadata": {
        "id": "Ro9GFqGkoDiX"
      },
      "execution_count": 2451,
      "outputs": []
    },
    {
      "cell_type": "code",
      "source": [
        "def ChuanHoa(scaler):\n",
        "    sum_acc = 0\n",
        "    for i in range (10):\n",
        "        X_train, X_test, y_train, y_test = split_data(data)\n",
        "        dt_mode(X_train, X_test)\n",
        "        X_train, X_test = scaler_transform(X_train, X_test, scaler)\n",
        "        accuracy_score_function(X_train, X_test, y_train, y_test)\n",
        "        sum_acc += accuracy_score_function(X_train, X_test, y_train, y_test)\n",
        "        avg=sum_acc/10\n",
        "    return avg"
      ],
      "metadata": {
        "id": "-Bjr7uCjoJAr"
      },
      "execution_count": 2452,
      "outputs": []
    },
    {
      "cell_type": "code",
      "source": [
        "stand_no_outlier = ChuanHoa('standard')\n",
        "minmax_no_outlier = ChuanHoa('min_max')\n",
        "robus_no_outlier = ChuanHoa('robust')\n",
        "maxabs_no_outlier = ChuanHoa('maxabs')\n",
        "norma_no_outlier = ChuanHoa('norma')\n",
        "quantil_no_outlier = ChuanHoa('quantil')\n",
        "powert_no_outlier = ChuanHoa('powert')"
      ],
      "metadata": {
        "id": "R5O9HuksrM3h"
      },
      "execution_count": 2453,
      "outputs": []
    },
    {
      "cell_type": "code",
      "source": [
        "print(\"No_Outlier_Standard :\" ,stand_no_outlier)\n",
        "print(\"No_Outlier_MinMax :\" ,minmax_no_outlier)\n",
        "print(\"No_Outlier_Robus :\" ,robus_no_outlier)\n",
        "print(\"No_Outlier_Maxabs :\" ,maxabs_no_outlier)\n",
        "print(\"No_Outlier_Norma :\" ,norma_no_outlier)\n",
        "print(\"No_Outlier_Quantil :\" ,quantil_no_outlier)\n",
        "print(\"No_Outlier_Powert :\" ,powert_no_outlier)"
      ],
      "metadata": {
        "colab": {
          "base_uri": "https://localhost:8080/"
        },
        "id": "ytWdEq0ODGXy",
        "outputId": "e92543de-7f52-4ebc-98b0-893cfe00f484"
      },
      "execution_count": 2454,
      "outputs": [
        {
          "output_type": "stream",
          "name": "stdout",
          "text": [
            "No_Outlier_Standard : 0.6682835820895523\n",
            "No_Outlier_MinMax : 0.6511194029850746\n",
            "No_Outlier_Robus : 0.6604477611940298\n",
            "No_Outlier_Maxabs : 0.6514925373134328\n",
            "No_Outlier_Norma : 0.6776119402985075\n",
            "No_Outlier_Quantil : 0.6555970149253731\n",
            "No_Outlier_Powert : 0.675\n"
          ]
        }
      ]
    },
    {
      "cell_type": "code",
      "source": [
        "def ChuanHoa2(scaler):\n",
        "    sum_acc = 0\n",
        "    for i in range(10):\n",
        "        X_train, X_test, y_train, y_test = split_data(data)\n",
        "        dt_mode(X_train, X_test)\n",
        "        outlier_process(X_train, X_test)\n",
        "        X_train_scaled, X_test_scaled = scaler_transform(X_train, X_test, scaler)\n",
        "        acc = accuracy_score_function(X_train_scaled, X_test_scaled, y_train, y_test)\n",
        "        sum_acc += acc\n",
        "        avg_acc = sum_acc / 10\n",
        "    return avg_acc\n"
      ],
      "metadata": {
        "id": "_9ipxUzsgy7R"
      },
      "execution_count": 2455,
      "outputs": []
    },
    {
      "cell_type": "code",
      "source": [
        "import seaborn as sns\n",
        "\n",
        "# Tạo DataFrame mới chứa thông tin về age, fare, và survived\n",
        "df = pd.concat([X_train[['age', 'fare']], y_train], axis=1)\n",
        "\n",
        "# Thiết lập kích thước figure\n",
        "plt.figure(figsize=(12, 5))\n",
        "\n",
        "# Vẽ biểu đồ scatterplot cho DataFrame gốc\n",
        "plt.subplot(1, 2, 1)\n",
        "sns.scatterplot(data=data, x='age', y='fare', hue='survived')\n",
        "plt.title('Chưa chuẩn hóa')\n",
        "\n",
        "# Vẽ biểu đồ scatterplot cho DataFrame đã chuẩn hóa\n",
        "plt.subplot(1, 2, 2)\n",
        "sns.scatterplot(data=df, x='age', y='fare', hue='survived')\n",
        "plt.title('Đã chuẩn hóa ')\n",
        "\n",
        "# Hiển thị đồ thị\n",
        "plt.show()\n"
      ],
      "metadata": {
        "colab": {
          "base_uri": "https://localhost:8080/",
          "height": 487
        },
        "id": "k277l498lEiD",
        "outputId": "81b09303-ca08-47c5-d38a-512041baff51"
      },
      "execution_count": 2456,
      "outputs": [
        {
          "output_type": "display_data",
          "data": {
            "text/plain": [
              "<Figure size 1200x500 with 2 Axes>"
            ],
            "image/png": "[encoded data removed]"
          },
          "metadata": {}
        }
      ]
    },
    {
      "cell_type": "markdown",
      "source": [
        "* Đồ thị thứ nhất (Chưa chuẩn hóa) cho thấy sự phân bố của hai cột dữ liệu \"age\" và \"fare\" trên một mặt phẳng và được phân tách theo trạng thái sống hay chết của hành khách (\"survived\"). Tuy nhiên, dữ liệu chưa được chuẩn hóa nên sự phân bố của dữ liệu giữa các trục x và y không đồng đều.\n",
        "\n",
        "* Đồ thị thứ hai (Đã chuẩn hóa) cho thấy sự phân bố của hai cột dữ liệu \"age\" và \"fare\" đã được chuẩn hóa trên cùng một khoảng giá trị trên trục x và y, tạo ra một sự phân bố dữ liệu đồng đều. Việc chuẩn hóa dữ liệu giúp cho các giá trị trong dữ liệu phân bố đồng đều hơn và tránh tình trạng các giá trị ở một trong các trục chiếm ưu thế khi phân tích và đánh giá."
      ],
      "metadata": {
        "id": "nEPFrnoKVF2f"
      }
    },
    {
      "cell_type": "code",
      "source": [
        "stand_outlier = ChuanHoa2('standard')\n",
        "minmax_outlier = ChuanHoa2('min_max')\n",
        "robus_outlier = ChuanHoa2('robust')\n",
        "maxabs_outlier = ChuanHoa2('maxabs')\n",
        "norma_outlier = ChuanHoa2('norma')\n",
        "quantil_outlier = ChuanHoa2('quantil')\n",
        "powert_outlier = ChuanHoa2('powert')"
      ],
      "metadata": {
        "id": "FSjqF5Q9hC2N"
      },
      "execution_count": 2457,
      "outputs": []
    },
    {
      "cell_type": "code",
      "source": [
        "print(\"Outlier_Standard :\" ,stand_outlier)\n",
        "print(\"Outlier_MinMax :\" ,minmax_outlier)\n",
        "print(\"Outlier_Robus :\" ,robus_outlier)\n",
        "print(\"Outlier_Maxabs :\" ,maxabs_outlier)\n",
        "print(\"Outlier_Norma :\" ,norma_outlier)\n",
        "print(\"Outlier_Quantil :\" ,quantil_outlier)\n",
        "print(\"Outlier_Powert :\" ,powert_outlier)"
      ],
      "metadata": {
        "colab": {
          "base_uri": "https://localhost:8080/"
        },
        "id": "tucyC6X_AjCu",
        "outputId": "c847205f-8c84-483f-bc3b-76d8b0b9a611"
      },
      "execution_count": 2458,
      "outputs": [
        {
          "output_type": "stream",
          "name": "stdout",
          "text": [
            "Outlier_Standard : 0.6563432835820896\n",
            "Outlier_MinMax : 0.6451492537313432\n",
            "Outlier_Robus : 0.6604477611940298\n",
            "Outlier_Maxabs : 0.6511194029850745\n",
            "Outlier_Norma : 0.6817164179104477\n",
            "Outlier_Quantil : 0.6697761194029851\n",
            "Outlier_Powert : 0.666044776119403\n"
          ]
        }
      ]
    },
    {
      "cell_type": "markdown",
      "source": [
        "# Biểu đồ scatter thể hiện sự tương quan giữa tuổi (age) và giá vé (fare) của các hành khách trên chuyến tàu Titanic trước và sau khi chuẩn hóa dữ liệu."
      ],
      "metadata": {
        "id": "_JZU-yCJUfNy"
      }
    },
    {
      "cell_type": "code",
      "source": [
        "import matplotlib.pyplot as plt\n",
        "from sklearn.preprocessing import MinMaxScaler\n",
        "\n",
        "# Tạo dataframe df với các cột là age, fare, survived\n",
        "df = data[['age', 'fare', 'survived']]\n",
        "\n",
        "# Chia dataframe df thành 2 dataframe df_survived và df_dead dựa trên cột survived\n",
        "df_survived = df[df['survived'] == 1]\n",
        "df_dead = df[df['survived'] == 0]\n",
        "\n",
        "# Khởi tạo scaler để chuẩn hóa dữ liệu\n",
        "scaler = MinMaxScaler()\n",
        "\n",
        "# Chuẩn hóa dữ liệu trên cả 2 dataframe df_survived và df_dead\n",
        "df_survived_scaled = scaler.fit_transform(df_survived[['age', 'fare']])\n",
        "df_dead_scaled = scaler.fit_transform(df_dead[['age', 'fare']])\n",
        "\n",
        "# Vẽ biểu đồ tương quan\n",
        "fig, ax = plt.subplots(nrows=1, ncols=2, figsize=(10, 5))\n",
        "\n",
        "ax[0].scatter(df_survived['age'], df_survived['fare'], c='green', alpha=0.5)\n",
        "ax[0].scatter(df_dead['age'], df_dead['fare'], c='red', alpha=0.5)\n",
        "ax[0].set_xlabel('Age')\n",
        "ax[0].set_ylabel('Fare')\n",
        "ax[0].set_title('Before scaling')\n",
        "\n",
        "ax[1].scatter(df_survived_scaled[:, 0], df_survived_scaled[:, 1], c='green', alpha=0.5)\n",
        "ax[1].scatter(df_dead_scaled[:, 0], df_dead_scaled[:, 1], c='red', alpha=0.5)\n",
        "ax[1].set_xlabel('Age')\n",
        "ax[1].set_ylabel('Fare')\n",
        "ax[1].set_title('After scaling')\n",
        "\n",
        "plt.show()\n"
      ],
      "metadata": {
        "colab": {
          "base_uri": "https://localhost:8080/",
          "height": 487
        },
        "id": "yYF41DFcwD6O",
        "outputId": "a950e896-5bf6-4947-a5e8-e8ab581f19b1"
      },
      "execution_count": 2459,
      "outputs": [
        {
          "output_type": "display_data",
          "data": {
            "text/plain": [
              "<Figure size 1000x500 with 2 Axes>"
            ],
            "image/png": "[encoded data removed]"
          },
          "metadata": {}
        }
      ]
    },
    {
      "cell_type": "markdown",
      "source": [
        "* Biểu đồ đầu tiên (\"Before scaling\") hiển thị dữ liệu chưa được chuẩn hóa và được phân thành hai nhóm màu đỏ và xanh lá cây tương ứng với các hành khách đã chết và sống sót.\n",
        "\n",
        "* Biểu đồ thứ hai (\"After scaling\") hiển thị dữ liệu đã được chuẩn hóa trên cả hai trục, trong đó giá trị trên mỗi trục đã được chuyển đổi để phù hợp với khoảng giá trị [0, 1]. Dữ liệu được phân thành hai nhóm màu đỏ và xanh lá cây tương ứng với các hành khách đã chết và sống sót."
      ],
      "metadata": {
        "id": "vgdS2nrwUtPk"
      }
    },
    {
      "cell_type": "markdown",
      "source": [
        "* => Sau khi chuẩn hóa, các giá trị dữ liệu trên cả hai trục đã được đưa về cùng khoảng giá trị và do đó, dễ dàng hơn trong việc so sánh và phân tích."
      ],
      "metadata": {
        "id": "K0ltWDe_U0jI"
      }
    },
    {
      "cell_type": "code",
      "source": [
        "import pandas as pd\n",
        "\n",
        "accuracy_no_outlier_process = {\n",
        "  'StandardScaler': (stand_no_outlier )*100,\n",
        "  'MinMaxScaler': (minmax_no_outlier)*100,\n",
        "  'RobustScaler': (robus_no_outlier )*100,\n",
        "  'MaxAbsScaler': (maxabs_no_outlier)*100,\n",
        "  'Normalizer': (norma_no_outlier )*100,\n",
        "  'QuantileTransformer': (quantil_no_outlier)*100,\n",
        "  'PowerTransformer': (powert_no_outlier)*100\n",
        "}\n",
        "\n",
        "accuracy_outlier_process = {\n",
        "  'StandardScaler': (stand_outlier )*100,\n",
        "  'MinMaxScaler': (minmax_outlier)*100,\n",
        "  'RobustScaler': (robus_outlier )*100,\n",
        "  'MaxAbsScaler': (maxabs_outlier)*100,\n",
        "  'Normalizer': (norma_outlier )*100,\n",
        "  'QuantileTransformer': (quantil_outlier)*100,\n",
        "  'PowerTransformer': (powert_outlier)*100\n",
        "}\n",
        "\n",
        "df = pd.DataFrame({'No outlier process': accuracy_no_outlier_process, 'Outlier process': accuracy_outlier_process})\n",
        "\n",
        "# Tô màu gradient\n",
        "df.style.background_gradient(cmap='Greens')\n"
      ],
      "metadata": {
        "colab": {
          "base_uri": "https://localhost:8080/",
          "height": 269
        },
        "id": "I3FPJ6IncqHx",
        "outputId": "43f3540f-94d0-4ab6-ac25-5d1cf3544e4d"
      },
      "execution_count": 2460,
      "outputs": [
        {
          "output_type": "execute_result",
          "data": {
            "text/plain": [
              "<pandas.io.formats.style.Styler at 0x7fa87860dc40>"
            ],
            "text/html": [
              "<style type=\"text/css\">\n",
              "#T_d68f5_row0_col0 {\n",
              "  background-color: #3ca559;\n",
              "  color: #f1f1f1;\n",
              "}\n",
              "#T_d68f5_row0_col1 {\n",
              "  background-color: #b6e2af;\n",
              "  color: #000000;\n",
              "}\n",
              "#T_d68f5_row1_col0, #T_d68f5_row1_col1 {\n",
              "  background-color: #f7fcf5;\n",
              "  color: #000000;\n",
              "}\n",
              "#T_d68f5_row2_col0 {\n",
              "  background-color: #a8dca2;\n",
              "  color: #000000;\n",
              "}\n",
              "#T_d68f5_row2_col1 {\n",
              "  background-color: #91d28e;\n",
              "  color: #000000;\n",
              "}\n",
              "#T_d68f5_row3_col0 {\n",
              "  background-color: #f5fbf3;\n",
              "  color: #000000;\n",
              "}\n",
              "#T_d68f5_row3_col1 {\n",
              "  background-color: #dcf2d7;\n",
              "  color: #000000;\n",
              "}\n",
              "#T_d68f5_row4_col0, #T_d68f5_row4_col1 {\n",
              "  background-color: #00441b;\n",
              "  color: #f1f1f1;\n",
              "}\n",
              "#T_d68f5_row5_col0 {\n",
              "  background-color: #dbf1d5;\n",
              "  color: #000000;\n",
              "}\n",
              "#T_d68f5_row5_col1 {\n",
              "  background-color: #359e53;\n",
              "  color: #f1f1f1;\n",
              "}\n",
              "#T_d68f5_row6_col0 {\n",
              "  background-color: #006428;\n",
              "  color: #f1f1f1;\n",
              "}\n",
              "#T_d68f5_row6_col1 {\n",
              "  background-color: #56b567;\n",
              "  color: #f1f1f1;\n",
              "}\n",
              "</style>\n",
              "<table id=\"T_d68f5\" class=\"dataframe\">\n",
              "  <thead>\n",
              "    <tr>\n",
              "      <th class=\"blank level0\" >&nbsp;</th>\n",
              "      <th id=\"T_d68f5_level0_col0\" class=\"col_heading level0 col0\" >No outlier process</th>\n",
              "      <th id=\"T_d68f5_level0_col1\" class=\"col_heading level0 col1\" >Outlier process</th>\n",
              "    </tr>\n",
              "  </thead>\n",
              "  <tbody>\n",
              "    <tr>\n",
              "      <th id=\"T_d68f5_level0_row0\" class=\"row_heading level0 row0\" >StandardScaler</th>\n",
              "      <td id=\"T_d68f5_row0_col0\" class=\"data row0 col0\" >66.828358</td>\n",
              "      <td id=\"T_d68f5_row0_col1\" class=\"data row0 col1\" >65.634328</td>\n",
              "    </tr>\n",
              "    <tr>\n",
              "      <th id=\"T_d68f5_level0_row1\" class=\"row_heading level0 row1\" >MinMaxScaler</th>\n",
              "      <td id=\"T_d68f5_row1_col0\" class=\"data row1 col0\" >65.111940</td>\n",
              "      <td id=\"T_d68f5_row1_col1\" class=\"data row1 col1\" >64.514925</td>\n",
              "    </tr>\n",
              "    <tr>\n",
              "      <th id=\"T_d68f5_level0_row2\" class=\"row_heading level0 row2\" >RobustScaler</th>\n",
              "      <td id=\"T_d68f5_row2_col0\" class=\"data row2 col0\" >66.044776</td>\n",
              "      <td id=\"T_d68f5_row2_col1\" class=\"data row2 col1\" >66.044776</td>\n",
              "    </tr>\n",
              "    <tr>\n",
              "      <th id=\"T_d68f5_level0_row3\" class=\"row_heading level0 row3\" >MaxAbsScaler</th>\n",
              "      <td id=\"T_d68f5_row3_col0\" class=\"data row3 col0\" >65.149254</td>\n",
              "      <td id=\"T_d68f5_row3_col1\" class=\"data row3 col1\" >65.111940</td>\n",
              "    </tr>\n",
              "    <tr>\n",
              "      <th id=\"T_d68f5_level0_row4\" class=\"row_heading level0 row4\" >Normalizer</th>\n",
              "      <td id=\"T_d68f5_row4_col0\" class=\"data row4 col0\" >67.761194</td>\n",
              "      <td id=\"T_d68f5_row4_col1\" class=\"data row4 col1\" >68.171642</td>\n",
              "    </tr>\n",
              "    <tr>\n",
              "      <th id=\"T_d68f5_level0_row5\" class=\"row_heading level0 row5\" >QuantileTransformer</th>\n",
              "      <td id=\"T_d68f5_row5_col0\" class=\"data row5 col0\" >65.559701</td>\n",
              "      <td id=\"T_d68f5_row5_col1\" class=\"data row5 col1\" >66.977612</td>\n",
              "    </tr>\n",
              "    <tr>\n",
              "      <th id=\"T_d68f5_level0_row6\" class=\"row_heading level0 row6\" >PowerTransformer</th>\n",
              "      <td id=\"T_d68f5_row6_col0\" class=\"data row6 col0\" >67.500000</td>\n",
              "      <td id=\"T_d68f5_row6_col1\" class=\"data row6 col1\" >66.604478</td>\n",
              "    </tr>\n",
              "  </tbody>\n",
              "</table>\n"
            ]
          },
          "metadata": {},
          "execution_count": 2460
        }
      ]
    },
    {
      "cell_type": "code",
      "source": [
        "import pandas as pd\n",
        "\n",
        "accuracy_no_outlier_process = {\n",
        "  'mode': No_outlier_mode*100,\n",
        "}\n",
        "accuracy_outlier_process = {\n",
        "  'mode': data_outlier_mode*100,\n",
        "}\n",
        "accuracy_z_score_outlier_process = {\n",
        "  'mode': stand_outlier*100,\n",
        "}\n",
        "accuracy_min_max_outlier_process = {\n",
        "  'mode': minmax_outlier*100\n",
        "}\n",
        "accuracy_robust_outlier_process = {\n",
        "  'mode': robus_outlier*100,\n",
        "}\n",
        "accuracy_maxabs_outlier_process = {\n",
        "  'mode': maxabs_outlier*100,\n",
        "}\n",
        "accuracy_norma_outlier_process = {\n",
        "  'mode': norma_outlier*100,\n",
        "}\n",
        "df = pd.DataFrame({\n",
        "  'No outlier process': accuracy_no_outlier_process,\n",
        "  'Outlier process': accuracy_outlier_process,\n",
        "  'Normalize to Z-score': accuracy_z_score_outlier_process,\n",
        "  'Normalize to Min-max': accuracy_min_max_outlier_process,\n",
        "  'Normalize to Robust': accuracy_robust_outlier_process,\n",
        "  'Normalize to MaxAbsScaler': accuracy_maxabs_outlier_process,\n",
        "  'Normalize to Normalizer': accuracy_norma_outlier_process\n",
        "})\n",
        "\n",
        "# Tô màu gradient\n",
        "df.style.background_gradient(cmap='Reds')\n"
      ],
      "metadata": {
        "colab": {
          "base_uri": "https://localhost:8080/",
          "height": 80
        },
        "id": "wJJFJ6CRQl1t",
        "outputId": "756d5124-4270-4e87-a004-6ba3433ff13f"
      },
      "execution_count": 2461,
      "outputs": [
        {
          "output_type": "execute_result",
          "data": {
            "text/plain": [
              "<pandas.io.formats.style.Styler at 0x7fa873fffbe0>"
            ],
            "text/html": [
              "<style type=\"text/css\">\n",
              "#T_0d447_row0_col0, #T_0d447_row0_col1, #T_0d447_row0_col2, #T_0d447_row0_col3, #T_0d447_row0_col4, #T_0d447_row0_col5, #T_0d447_row0_col6 {\n",
              "  background-color: #fff5f0;\n",
              "  color: #000000;\n",
              "}\n",
              "</style>\n",
              "<table id=\"T_0d447\" class=\"dataframe\">\n",
              "  <thead>\n",
              "    <tr>\n",
              "      <th class=\"blank level0\" >&nbsp;</th>\n",
              "      <th id=\"T_0d447_level0_col0\" class=\"col_heading level0 col0\" >No outlier process</th>\n",
              "      <th id=\"T_0d447_level0_col1\" class=\"col_heading level0 col1\" >Outlier process</th>\n",
              "      <th id=\"T_0d447_level0_col2\" class=\"col_heading level0 col2\" >Normalize to Z-score</th>\n",
              "      <th id=\"T_0d447_level0_col3\" class=\"col_heading level0 col3\" >Normalize to Min-max</th>\n",
              "      <th id=\"T_0d447_level0_col4\" class=\"col_heading level0 col4\" >Normalize to Robust</th>\n",
              "      <th id=\"T_0d447_level0_col5\" class=\"col_heading level0 col5\" >Normalize to MaxAbsScaler</th>\n",
              "      <th id=\"T_0d447_level0_col6\" class=\"col_heading level0 col6\" >Normalize to Normalizer</th>\n",
              "    </tr>\n",
              "  </thead>\n",
              "  <tbody>\n",
              "    <tr>\n",
              "      <th id=\"T_0d447_level0_row0\" class=\"row_heading level0 row0\" >mode</th>\n",
              "      <td id=\"T_0d447_row0_col0\" class=\"data row0 col0\" >66.082090</td>\n",
              "      <td id=\"T_0d447_row0_col1\" class=\"data row0 col1\" >66.082090</td>\n",
              "      <td id=\"T_0d447_row0_col2\" class=\"data row0 col2\" >65.634328</td>\n",
              "      <td id=\"T_0d447_row0_col3\" class=\"data row0 col3\" >64.514925</td>\n",
              "      <td id=\"T_0d447_row0_col4\" class=\"data row0 col4\" >66.044776</td>\n",
              "      <td id=\"T_0d447_row0_col5\" class=\"data row0 col5\" >65.111940</td>\n",
              "      <td id=\"T_0d447_row0_col6\" class=\"data row0 col6\" >68.171642</td>\n",
              "    </tr>\n",
              "  </tbody>\n",
              "</table>\n"
            ]
          },
          "metadata": {},
          "execution_count": 2461
        }
      ]
    },
    {
      "cell_type": "code",
      "source": [],
      "metadata": {
        "id": "NBC90W0gOjCf"
      },
      "execution_count": 2461,
      "outputs": []
    },
    {
      "cell_type": "markdown",
      "source": [
        "# Bài 8.1"
      ],
      "metadata": {
        "id": "gi2sB1x_gesI"
      }
    },
    {
      "cell_type": "code",
      "source": [
        "from sklearn.pipeline import make_pipeline\n",
        "from sklearn.preprocessing import Normalizer\n",
        "from sklearn.linear_model import LogisticRegression\n",
        "from sklearn.model_selection import cross_validate\n",
        "from sklearn.metrics import accuracy_score\n",
        "import numpy as np\n",
        "from sklearn.base import BaseEstimator, TransformerMixin\n",
        "import pandas as pd\n",
        "from sklearn.preprocessing import FunctionTransformer\n",
        "from sklearn.impute import SimpleImputer\n",
        "from sklearn.ensemble import IsolationForest\n"
      ],
      "metadata": {
        "id": "ZXR1Un8ArLbR"
      },
      "execution_count": 2462,
      "outputs": []
    },
    {
      "cell_type": "code",
      "source": [
        "df = pd.read_csv('./sample_data/titanic.csv')\n",
        "\n",
        "# Select features and target\n",
        "X = df[['age','fare','sex']]\n",
        "y = df['survived']\n"
      ],
      "metadata": {
        "id": "ETiZ3EMLcCXE"
      },
      "execution_count": 2463,
      "outputs": []
    },
    {
      "cell_type": "markdown",
      "source": [
        "Pipelines trong đoạn mã này bao gồm:\n",
        "* SimpleImputer: Thực hiện điền giá trị thiếu bằng giá trị trung bình của các mẫu (đối với các cột 'age' và 'fare').\n",
        "* OneHotEncoder: Mã hóa giới tính ('sex') dưới dạng one-hot encoding và giữ lại tất cả các cột khác.\n",
        "* LogisticRegression: Mô hình hồi quy logistic được sử dụng để dự đoán xác suất sống sót trên tàu Titanic."
      ],
      "metadata": {
        "id": "gePjVU-0gEzN"
      }
    },
    {
      "cell_type": "code",
      "source": [
        "from sklearn.pipeline import make_pipeline\n",
        "from sklearn.preprocessing import StandardScaler, OneHotEncoder\n",
        "from sklearn.impute import SimpleImputer\n",
        "from sklearn.compose import make_column_transformer\n",
        "from sklearn.linear_model import LogisticRegression\n",
        "\n",
        "def get_pipeline(scaler=None):\n",
        "    preprocessor = make_column_transformer(\n",
        "        (SimpleImputer(strategy='median'), ['age', 'fare']),\n",
        "        (OneHotEncoder(), ['sex']),\n",
        "    )\n",
        "\n",
        "    if scaler is None:\n",
        "        pipeline = make_pipeline(preprocessor, LogisticRegression(max_iter=1000))\n",
        "    else:\n",
        "        pipeline = make_pipeline(preprocessor, scaler(), LogisticRegression(max_iter=1000))\n",
        "\n",
        "    return pipeline\n"
      ],
      "metadata": {
        "id": "l4BSdNBHPHlz"
      },
      "execution_count": 2472,
      "outputs": []
    },
    {
      "cell_type": "code",
      "source": [
        "scalers = [StandardScaler, MinMaxScaler, RobustScaler, Normalizer, QuantileTransformer, PowerTransformer, MaxAbsScaler]\n",
        "\n",
        "for scaler in scalers:\n",
        "    pipeline = get_pipeline(scaler)\n",
        "    scoring = ['accuracy']\n",
        "    results = cross_validate(pipeline, X, y, cv = 5, scoring = scoring)\n",
        "    accuracy = np.mean(results['test_accuracy'])\n",
        "    print(f'Average accuracy of pipeline ({scaler.__name__ if scaler is not None else \"None\"}): {accuracy}')\n"
      ],
      "metadata": {
        "id": "zBajjMuoPK4x",
        "colab": {
          "base_uri": "https://localhost:8080/"
        },
        "outputId": "042dbea3-befb-48c4-bdb8-e80442fb9ad3"
      },
      "execution_count": 2473,
      "outputs": [
        {
          "output_type": "stream",
          "name": "stdout",
          "text": [
            "Average accuracy of pipeline (StandardScaler): 0.7822547234950725\n",
            "Average accuracy of pipeline (MinMaxScaler): 0.7878664239532986\n",
            "Average accuracy of pipeline (RobustScaler): 0.7822547234950725\n",
            "Average accuracy of pipeline (Normalizer): 0.6914631849852488\n",
            "Average accuracy of pipeline (QuantileTransformer): 0.7856192329420627\n",
            "Average accuracy of pipeline (PowerTransformer): 0.7856255100119265\n",
            "Average accuracy of pipeline (MaxAbsScaler): 0.7878664239532986\n"
          ]
        }
      ]
    },
    {
      "cell_type": "markdown",
      "source": [
        "# Bài 8.2"
      ],
      "metadata": {
        "id": "5Jrjx7VSgb2u"
      }
    },
    {
      "cell_type": "markdown",
      "source": [],
      "metadata": {
        "id": "OtytzaPHmmRl"
      }
    },
    {
      "cell_type": "code",
      "source": [
        "  from sklearn.model_selection import train_test_split, GridSearchCV\n",
        "  from sklearn.linear_model import LogisticRegression\n",
        "  from sklearn.metrics import accuracy_score\n",
        "  from sklearn.impute import SimpleImputer\n",
        "  from sklearn.pipeline import make_pipeline\n",
        "  from sklearn.preprocessing import StandardScaler, OneHotEncoder\n",
        "  from sklearn.compose import make_column_transformer\n",
        "  import pandas as pd\n",
        "\n",
        "  df = pd.read_csv('./sample_data/titanic.csv', usecols=['survived', 'age', 'fare', 'sex'])\n",
        "\n",
        "  X_train, X_test, y_train, y_test = train_test_split(df[['age', 'fare', 'sex']], df['survived'], test_size=0.3, random_state=10)\n",
        "\n",
        "  preprocessor = make_column_transformer(\n",
        "  (SimpleImputer(strategy='median'), ['age', 'fare']),\n",
        "  (OneHotEncoder(), ['sex']),\n",
        "  )\n",
        "\n",
        "  pipeline = make_pipeline(preprocessor, StandardScaler(), LogisticRegression(max_iter=1000))\n",
        "\n",
        "  parameters = {\n",
        "  'logisticregression__penalty': ['l1', 'l2'],\n",
        "  'logisticregression__C': [100, 10, 1.0, 0.1, 0.01],\n",
        "  'logisticregression__solver': ['liblinear']\n",
        "  }\n",
        "\n",
        "  clf = GridSearchCV(pipeline, parameters, scoring='accuracy', cv=5, error_score='raise')\n",
        "  clf.fit(X_train, y_train)\n",
        "\n",
        "  best_model = clf.best_estimator_\n",
        "  best_model.fit(X_train, y_train)\n",
        "\n",
        "  y_pred = best_model.predict(X_test)\n",
        "\n",
        "  accuracy = accuracy_score(y_test, y_pred)\n",
        "  print(best_model)\n",
        "  print(\"Accuracy: {:.2f}%\".format(accuracy * 100))"
      ],
      "metadata": {
        "colab": {
          "base_uri": "https://localhost:8080/"
        },
        "id": "wWFn6gXth6A9",
        "outputId": "1d76b13d-b61d-4e04-ddcb-4c8632660ba0"
      },
      "execution_count": 2476,
      "outputs": [
        {
          "output_type": "stream",
          "name": "stdout",
          "text": [
            "Pipeline(steps=[('columntransformer',\n",
            "                 ColumnTransformer(transformers=[('simpleimputer',\n",
            "                                                  SimpleImputer(strategy='median'),\n",
            "                                                  ['age', 'fare']),\n",
            "                                                 ('onehotencoder',\n",
            "                                                  OneHotEncoder(), ['sex'])])),\n",
            "                ('standardscaler', StandardScaler()),\n",
            "                ('logisticregression',\n",
            "                 LogisticRegression(C=0.1, max_iter=1000, penalty='l1',\n",
            "                                    solver='liblinear'))])\n",
            "Accuracy: 80.22%\n"
          ]
        }
      ]
    }
  ]
}